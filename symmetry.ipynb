{
 "cells": [
  {
   "cell_type": "code",
   "execution_count": 196,
   "id": "blessed-replacement",
   "metadata": {},
   "outputs": [],
   "source": [
    "from pymatgen.ext.matproj import MPRester\n",
    "from pymatgen.symmetry.analyzer import SpacegroupAnalyzer\n",
    "from jupyter_jsmol.pymatgen import quick_view\n",
    "from pymatgen.core.operations import SymmOp\n",
    "import numpy as np"
   ]
  },
  {
   "cell_type": "code",
   "execution_count": 204,
   "id": "compatible-algeria",
   "metadata": {},
   "outputs": [],
   "source": [
    "with MPRester(\"g23npTJNAhDPnQMr\") as m:\n",
    "\n",
    "    # Structure and doc for material id\n",
    "    struct = m.get_structure_by_material_id(\"mp-9363\")"
   ]
  },
  {
   "cell_type": "markdown",
   "id": "indian-reality",
   "metadata": {},
   "source": [
    "#  1. Position des atomes dans le cristal"
   ]
  },
  {
   "cell_type": "code",
   "execution_count": 205,
   "id": "clear-taiwan",
   "metadata": {},
   "outputs": [],
   "source": [
    "Rb = [0.00000000,0.00000000,0.00000000]\n",
    "Nd = [0.50000000,0.50000000,0.50000000]\n",
    "S1 = [0.23241300,0.23241300,0.23241300]\n",
    "S2 = [0.76758700,0.76758700,0.76758700]"
   ]
  },
  {
   "cell_type": "markdown",
   "id": "confused-weather",
   "metadata": {},
   "source": [
    "# 2. Symétries"
   ]
  },
  {
   "cell_type": "markdown",
   "id": "industrial-basement",
   "metadata": {},
   "source": [
    "## 2.1 Inversion"
   ]
  },
  {
   "cell_type": "code",
   "execution_count": 214,
   "id": "grand-bumper",
   "metadata": {
    "scrolled": false
   },
   "outputs": [
    {
     "name": "stdout",
     "output_type": "stream",
     "text": [
      "Matrice de rotation :\n",
      " [[-1.  0.  0.]\n",
      " [ 0. -1.  0.]\n",
      " [ 0.  0. -1.]]\n",
      " \n",
      "Position initial de l'atome de Néodyme : [0.5, 0.5, 0.5]\n",
      "Position de l'atome de Néodyme après l'inversion: [-0.5 -0.5 -0.5]\n"
     ]
    },
    {
     "data": {
      "application/vnd.jupyter.widget-view+json": {
       "model_id": "94dc4d1061b648d68a174fb74545541d",
       "version_major": 2,
       "version_minor": 0
      },
      "text/plain": [
       "JsmolView(layout=Layout(align_self='stretch', height='400px'))"
      ]
     },
     "metadata": {},
     "output_type": "display_data"
    }
   ],
   "source": [
    "s1 = SymmOp.from_xyz_string('-x,-y,-z')\n",
    "op1 = s1.operate(Nd)\n",
    "rot1 = s1.rotation_matrix\n",
    "print(\"Matrice de rotation :\\n\",rot1)\n",
    "print(\" \")\n",
    "print(\"Position initial de l'atome de Néodyme :\",Nd)\n",
    "print(\"Position de l'atome de Néodyme après l'inversion:\",op1)\n",
    "\n",
    "#Affiche du cristal\n",
    "view = quick_view(struct,conventional=True)\n",
    "display(view)\n",
    "view.script(\"draw symop 2 {atomno = 2}\")"
   ]
  },
  {
   "cell_type": "markdown",
   "id": "brazilian-recall",
   "metadata": {},
   "source": [
    "## 2.2 Réflexion"
   ]
  },
  {
   "cell_type": "code",
   "execution_count": 207,
   "id": "informative-triumph",
   "metadata": {
    "scrolled": false
   },
   "outputs": [
    {
     "name": "stdout",
     "output_type": "stream",
     "text": [
      "Matrice de rotation :\n",
      " [[ 0. -1.  0.]\n",
      " [-1.  0.  0.]\n",
      " [ 0.  0.  1.]]\n",
      "Le déterminant de la matrice vaut -1.0, on a donc bien une opération de rotation\n",
      " \n",
      "Position initial de l'atome de Souffre : [0.232413, 0.232413, 0.232413]\n",
      "Position de l'atome de Souffre après la réflexion: [-0.232413 -0.232413  0.232413]\n"
     ]
    },
    {
     "data": {
      "application/vnd.jupyter.widget-view+json": {
       "model_id": "cbc342e7eb0942c5b5fff22812cb2f55",
       "version_major": 2,
       "version_minor": 0
      },
      "text/plain": [
       "JsmolView(layout=Layout(align_self='stretch', height='400px'))"
      ]
     },
     "metadata": {},
     "output_type": "display_data"
    }
   ],
   "source": [
    "s2 = SymmOp.from_xyz_string('-y,-x,z')\n",
    "op2 = s2.operate(S1)\n",
    "rot2 = s2.rotation_matrix\n",
    "print(\"Matrice de rotation :\\n\",rot2)\n",
    "print(\"Le déterminant de la matrice vaut {}, on a donc bien une opération de rotation\".format(np.linalg.det(rot2)))\n",
    "print(\" \")\n",
    "print(\"Position initial de l'atome de Souffre :\",S1)\n",
    "print(\"Position de l'atome de Souffre après la réflexion:\",op2)\n",
    "\n",
    "#Affichage du cristal\n",
    "view2 = quick_view(struct,conventional=True)\n",
    "display(view2)\n",
    "view2.script(\"draw symop 8 {atomno = 3}\")"
   ]
  },
  {
   "cell_type": "markdown",
   "id": "solar-thumbnail",
   "metadata": {},
   "source": [
    "## 2.3 Rotation d'ordre 3"
   ]
  },
  {
   "cell_type": "code",
   "execution_count": 216,
   "id": "hollywood-ordinance",
   "metadata": {
    "scrolled": false
   },
   "outputs": [
    {
     "name": "stdout",
     "output_type": "stream",
     "text": [
      "Matrice de rotation :\n",
      " [[ 0. -1.  0.]\n",
      " [ 1. -1.  0.]\n",
      " [ 0.  0.  1.]]\n",
      "Le déterminant de la matrice vaut 1.0, on a donc bien une opération de rotation\n",
      "C'est une rotation d'ordre 3 car la rotation est de 120°\n",
      " \n",
      "Position initial de l'atome de Rubidium : [0.0, 0.0, 0.0]\n",
      "Position de l'atome de Rubidium après la réflexion: [0. 0. 0.]\n"
     ]
    },
    {
     "data": {
      "application/vnd.jupyter.widget-view+json": {
       "model_id": "27b48b758a514ba09e5283e4aa6b5150",
       "version_major": 2,
       "version_minor": 0
      },
      "text/plain": [
       "JsmolView(layout=Layout(align_self='stretch', height='400px'))"
      ]
     },
     "metadata": {},
     "output_type": "display_data"
    }
   ],
   "source": [
    "s3 = SymmOp.from_xyz_string('-y, x-y, z')\n",
    "op3 = s3.operate(Rb)\n",
    "rot3 = s3.rotation_matrix\n",
    "print(\"Matrice de rotation :\\n\",rot3)\n",
    "print(\"Le déterminant de la matrice vaut {}, on a donc bien une opération de rotation\".format(np.linalg.det(rot3)))\n",
    "print(\"C'est une rotation d'ordre 3 car la rotation est de 120°\")\n",
    "print(\" \")\n",
    "print(\"Position initial de l'atome de Rubidium :\",Rb)\n",
    "print(\"Position de l'atome de Rubidium après la réflexion:\",op3)\n",
    "\n",
    "\n",
    "#Affichage du cristal\n",
    "view3 = quick_view(struct,conventional=True)\n",
    "display(view3)\n",
    "view3.script(\"draw SYMOP 3 {atomno = 4}\")\n",
    "\n"
   ]
  },
  {
   "cell_type": "code",
   "execution_count": null,
   "id": "blank-nutrition",
   "metadata": {},
   "outputs": [],
   "source": []
  }
 ],
 "metadata": {
  "kernelspec": {
   "display_name": "Python 3",
   "language": "python",
   "name": "python3"
  },
  "language_info": {
   "codemirror_mode": {
    "name": "ipython",
    "version": 3
   },
   "file_extension": ".py",
   "mimetype": "text/x-python",
   "name": "python",
   "nbconvert_exporter": "python",
   "pygments_lexer": "ipython3",
   "version": "3.6.8"
  }
 },
 "nbformat": 4,
 "nbformat_minor": 5
}
