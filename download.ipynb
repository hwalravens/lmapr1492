{
 "cells": [
  {
   "cell_type": "code",
   "execution_count": 73,
   "id": "spread-powder",
   "metadata": {},
   "outputs": [],
   "source": [
    "from jupyter_jsmol.pymatgen import quick_view\n",
    "from pymatgen.ext.matproj import MPRester"
   ]
  },
  {
   "cell_type": "code",
   "execution_count": 74,
   "id": "hispanic-kernel",
   "metadata": {},
   "outputs": [],
   "source": [
    "with MPRester(\"g23npTJNAhDPnQMr\") as m:\n",
    "\n",
    "    # Structure for material id\n",
    "    structure = m.get_structure_by_material_id(\"mp-9363\",conventional_unit_cell = True)\n",
    "    \n",
    "     # Dos for material id\n",
    "    dos = m.get_dos_by_material_id(\"mp-9363\")"
   ]
  },
  {
   "cell_type": "code",
   "execution_count": 76,
   "id": "dedicated-klein",
   "metadata": {
    "scrolled": true
   },
   "outputs": [
    {
     "data": {
      "application/vnd.jupyter.widget-view+json": {
       "model_id": "b6114b8bb9924e13b62a1caedd793c6f",
       "version_major": 2,
       "version_minor": 0
      },
      "text/plain": [
       "JsmolView(layout=Layout(align_self='stretch', height='400px'))"
      ]
     },
     "metadata": {},
     "output_type": "display_data"
    },
    {
     "name": "stdout",
     "output_type": "stream",
     "text": [
      "Complete DOS for Full Formula (Rb1 Nd1 S2)\n",
      "Reduced Formula: RbNdS2\n",
      "abc   :   8.090375   8.090375   8.090375\n",
      "angles:  30.294868  30.294868  30.294868\n",
      "Sites (4)\n",
      "  #  SP           a         b         c\n",
      "---  ----  --------  --------  --------\n",
      "  0  Rb    0         0         0\n",
      "  1  Nd    0.5       0.5       0.5\n",
      "  2  S     0.767587  0.767587  0.767587\n",
      "  3  S     0.232413  0.232413  0.232413\n"
     ]
    }
   ],
   "source": [
    "view = quick_view(structure)\n",
    "display (view)"
   ]
  }
 ],
 "metadata": {
  "kernelspec": {
   "display_name": "Python 3",
   "language": "python",
   "name": "python3"
  },
  "language_info": {
   "codemirror_mode": {
    "name": "ipython",
    "version": 3
   },
   "file_extension": ".py",
   "mimetype": "text/x-python",
   "name": "python",
   "nbconvert_exporter": "python",
   "pygments_lexer": "ipython3",
   "version": "3.6.8"
  }
 },
 "nbformat": 4,
 "nbformat_minor": 5
}
