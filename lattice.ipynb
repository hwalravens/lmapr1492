{
 "cells": [
  {
   "cell_type": "code",
   "execution_count": 117,
   "id": "three-circulation",
   "metadata": {},
   "outputs": [],
   "source": [
    "from pymatgen.ext.matproj import MPRester\n",
    "from pymatgen import Structure, Lattice\n",
    "from pymatgen.symmetry.analyzer import SpacegroupAnalyzer\n"
   ]
  },
  {
   "cell_type": "code",
   "execution_count": 119,
   "id": "handled-center",
   "metadata": {},
   "outputs": [],
   "source": [
    "with MPRester(\"g23npTJNAhDPnQMr\") as m:\n",
    "\n",
    "    # Structure and doc for material id\n",
    "    struct = m.get_structure_by_material_id(\"mp-9363\")\n",
    "    doc = m.get_dos_by_material_id(\"mp-9363\")\n",
    "    \n",
    "space = SpacegroupAnalyzer(struct)"
   ]
  },
  {
   "cell_type": "code",
   "execution_count": 120,
   "id": "corresponding-monitoring",
   "metadata": {},
   "outputs": [
    {
     "name": "stdout",
     "output_type": "stream",
     "text": [
      "Complete DOS for Full Formula (Rb1 Nd1 S2)\n",
      "Reduced Formula: RbNdS2\n",
      "abc   :   8.090375   8.090375   8.090375\n",
      "angles:  30.294868  30.294868  30.294868\n",
      "Sites (4)\n",
      "  #  SP           a         b         c\n",
      "---  ----  --------  --------  --------\n",
      "  0  Rb    0         0         0\n",
      "  1  Nd    0.5       0.5       0.5\n",
      "  2  S     0.767587  0.767587  0.767587\n",
      "  3  S     0.232413  0.232413  0.232413\n"
     ]
    }
   ],
   "source": [
    "print(doc)"
   ]
  },
  {
   "cell_type": "code",
   "execution_count": 137,
   "id": "arctic-prediction",
   "metadata": {},
   "outputs": [
    {
     "name": "stdout",
     "output_type": "stream",
     "text": [
      "Les vecteurs de base du réseau direct : [8.090375, 0, 0] [0, 8.090375, 0] [0, 0, 8.090375]\n",
      " \n",
      "Les vecteurs de base du réseau réciproque : [1.7373019107618624, 0, 0] [0, 1.7373019107618621, 0] [0, 0, 1.7373019107618615]\n"
     ]
    }
   ],
   "source": [
    "#On utilise la doc pour trouver les paramètres qui vont nous permettre de créer notre réseau direct\n",
    "lattice = Lattice.from_parameters(a=8.090375, b=8.090375,c=8.090375, alpha=30.294868,beta=30.294868,gamma=30.294868)\n",
    "\n",
    "#Permet de trouver la longueur des vecteurs (a,b,c) du réseau direct\n",
    "l = lattice.lengths\n",
    "print(\"Les vecteurs de base du réseau direct :\", [l[0],0,0], [0,l[1],0], [0,0,l[2]])\n",
    "print(\" \")\n",
    "\n",
    "\n",
    "#Pour trouver les paramètres et crée le réseau réciproque\n",
    "reciproc_lattice = lattice.reciprocal_lattice\n",
    "reciprocal_lattice = Lattice(reciproc_lattice.matrix)\n",
    "\n",
    "#Permet de trouver la longueurs des vecteurs (a,b,c) du réseau réciproque\n",
    "r_l = reciprocal_lattice.lengths\n",
    "print(\"Les vecteurs de base du réseau réciproque :\", [r_l[0],0,0], [0,r_l[1],0], [0,0,r_l[2]])\n"
   ]
  },
  {
   "cell_type": "code",
   "execution_count": 138,
   "id": "identical-still",
   "metadata": {},
   "outputs": [
    {
     "name": "stdout",
     "output_type": "stream",
     "text": [
      "Le réseau du RbNdS2 est  rhombohedral\n"
     ]
    }
   ],
   "source": [
    "print(\"Le réseau du RbNdS2 est \",space.get_lattice_type())"
   ]
  },
  {
   "cell_type": "markdown",
   "id": "permanent-tactics",
   "metadata": {},
   "source": [
    "Comme le réseau cristallin du RbNdS2 est rhomboédrique, le type de maille ne peut être que primitive. "
   ]
  },
  {
   "cell_type": "code",
   "execution_count": 139,
   "id": "atmospheric-borough",
   "metadata": {},
   "outputs": [
    {
     "name": "stdout",
     "output_type": "stream",
     "text": [
      "Le système cristallin du RbNdS2 est trigonal\n"
     ]
    }
   ],
   "source": [
    "print(\"Le système cristallin du RbNdS2 est\", space.get_crystal_system())"
   ]
  },
  {
   "cell_type": "code",
   "execution_count": 140,
   "id": "induced-suffering",
   "metadata": {},
   "outputs": [
    {
     "name": "stdout",
     "output_type": "stream",
     "text": [
      "Le groupe ponctuel du RbNdS2 est -3m\n"
     ]
    }
   ],
   "source": [
    "print(\"Le groupe ponctuel du RbNdS2 est\",space.get_point_group_symbol())"
   ]
  }
 ],
 "metadata": {
  "kernelspec": {
   "display_name": "Python 3",
   "language": "python",
   "name": "python3"
  },
  "language_info": {
   "codemirror_mode": {
    "name": "ipython",
    "version": 3
   },
   "file_extension": ".py",
   "mimetype": "text/x-python",
   "name": "python",
   "nbconvert_exporter": "python",
   "pygments_lexer": "ipython3",
   "version": "3.6.8"
  }
 },
 "nbformat": 4,
 "nbformat_minor": 5
}
